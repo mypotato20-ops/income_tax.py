{
  "nbformat": 4,
  "nbformat_minor": 0,
  "metadata": {
    "colab": {
      "provenance": [],
      "toc_visible": true,
      "authorship_tag": "ABX9TyPa3852FI8VzBG7jQQE59aT",
      "include_colab_link": true
    },
    "kernelspec": {
      "name": "python3",
      "display_name": "Python 3"
    },
    "language_info": {
      "name": "python"
    }
  },
  "cells": [
    {
      "cell_type": "markdown",
      "metadata": {
        "id": "view-in-github",
        "colab_type": "text"
      },
      "source": [
        "<a href=\"https://colab.research.google.com/github/mypotato20-ops/income_tax.py/blob/main/%EC%88%98%EC%97%85%EC%98%88%EC%A0%9C%EC%97%B0%EC%8A%B5.ipynb\" target=\"_parent\"><img src=\"https://colab.research.google.com/assets/colab-badge.svg\" alt=\"Open In Colab\"/></a>"
      ]
    },
    {
      "cell_type": "code",
      "source": [
        "# 소득(income)과 세금(tax) 변수 선언\n",
        "income = float(input(\"당신의 소득을 입력하세요(만원 단위): \"))\n",
        "\n",
        "# if-else 문으로 소득 수준 분류 및 세금 계산\n",
        "if income < 2000:\n",
        "    tax = income * 0.05\n",
        "    level = \"저소득층\"\n",
        "elif income < 5000:\n",
        "    tax = income * 0.25\n",
        "    level = \"중간소득층\"\n",
        "else:\n",
        "    tax = income * 0.50\n",
        "    level = \"고소득층\"\n",
        "\n",
        "# 결과 출력\n",
        "print(f\"\\n소득 수준: {level}\")\n",
        "print(f\"납부해야 할 세금: {tax:.2f}만원\")"
      ],
      "metadata": {
        "colab": {
          "base_uri": "https://localhost:8080/"
        },
        "id": "7-nk9uCIOEVX",
        "outputId": "63caa86e-9a56-42aa-ace5-2367587b7244"
      },
      "execution_count": 10,
      "outputs": [
        {
          "output_type": "stream",
          "name": "stdout",
          "text": [
            "당신의 소득을 입력하세요(만원 단위): 70000000\n",
            "\n",
            "소득 수준: 고소득층\n",
            "납부해야 할 세금: 35000000.00만원\n"
          ]
        }
      ]
    }
  ]
}